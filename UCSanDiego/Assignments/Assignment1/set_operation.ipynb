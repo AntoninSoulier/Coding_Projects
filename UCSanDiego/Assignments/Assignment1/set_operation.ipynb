{
 "cells": [
  {
   "cell_type": "code",
   "execution_count": 1,
   "metadata": {},
   "outputs": [
    {
     "name": "stdout",
     "output_type": "stream",
     "text": [
      "no\n"
     ]
    }
   ],
   "source": [
    "#Question 8\n",
    "A = {1,3,4,5}\n",
    "B = {2,4,6,8}\n",
    "\n",
    "def set_operation(A, B):\n",
    "    res = \"yes\"\n",
    "    for value in A:\n",
    "        if(not(value in B)):\n",
    "            res = \"no\"\n",
    "    return res\n",
    "\n",
    "print(set_operation(A,B))\n"
   ]
  }
 ],
 "metadata": {
  "kernelspec": {
   "display_name": "Python 3.10.8 64-bit (microsoft store)",
   "language": "python",
   "name": "python3"
  },
  "language_info": {
   "codemirror_mode": {
    "name": "ipython",
    "version": 3
   },
   "file_extension": ".py",
   "mimetype": "text/x-python",
   "name": "python",
   "nbconvert_exporter": "python",
   "pygments_lexer": "ipython3",
   "version": "3.10.8"
  },
  "orig_nbformat": 4,
  "vscode": {
   "interpreter": {
    "hash": "dc9198d752fabc74015ca3ce8d5de7530466fab88e0eb7c14aeb98fcedbad7af"
   }
  }
 },
 "nbformat": 4,
 "nbformat_minor": 2
}
