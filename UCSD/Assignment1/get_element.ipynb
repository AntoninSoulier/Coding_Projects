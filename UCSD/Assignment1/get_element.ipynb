{
 "cells": [
  {
   "cell_type": "code",
   "execution_count": 1,
   "metadata": {},
   "outputs": [
    {
     "name": "stdout",
     "output_type": "stream",
     "text": [
      "('e', 'u')\n"
     ]
    }
   ],
   "source": [
    "#Question 7\n",
    "tuple = (\"w\",3,\"r\",\"e\",\"s\",\"o\",\"u\",\"r\",\"c\",\"e\")\n",
    "\n",
    "def get_element(tuple):\n",
    "    if(len(tuple)<4):\n",
    "        print(\"Not enough elements in the tuple.\")\n",
    "    else:\n",
    "        new_tuple = (tuple[3],tuple[-4])\n",
    "    return new_tuple\n",
    "\n",
    "print(get_element(tuple))"
   ]
  }
 ],
 "metadata": {
  "interpreter": {
   "hash": "794d4fb344e7dfbd9d8e62a5303e08e679deeb8bb7cb7a546a2ca96b4c50d29e"
  },
  "kernelspec": {
   "display_name": "Python 3.10.4 64-bit (windows store)",
   "language": "python",
   "name": "python3"
  },
  "language_info": {
   "codemirror_mode": {
    "name": "ipython",
    "version": 3
   },
   "file_extension": ".py",
   "mimetype": "text/x-python",
   "name": "python",
   "nbconvert_exporter": "python",
   "pygments_lexer": "ipython3",
   "version": "3.10.4"
  },
  "orig_nbformat": 4
 },
 "nbformat": 4,
 "nbformat_minor": 2
}
