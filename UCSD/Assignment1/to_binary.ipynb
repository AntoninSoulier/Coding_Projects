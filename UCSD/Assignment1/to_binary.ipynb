{
 "cells": [
  {
   "cell_type": "code",
   "execution_count": 2,
   "metadata": {},
   "outputs": [
    {
     "name": "stdout",
     "output_type": "stream",
     "text": [
      "1010\n"
     ]
    }
   ],
   "source": [
    "#Question 10\n",
    "def reverse_string(string):\n",
    "    reversed_string = \"\"\n",
    "    t=len(string)-1 #so that index isn't out of range\n",
    "    for i in range(len(string)):\n",
    "        reversed_string+=string[t]\n",
    "        t=t-1\n",
    "    return reversed_string\n",
    "\n",
    "def to_binary_recursion(n):\n",
    "    return_string = \"\"\n",
    "    while(n>0):\n",
    "        return_string += str(n%2)\n",
    "        n = int(n/2)\n",
    "    return(reverse_string(return_string))\n",
    "\n",
    "print(to_binary_recursion(10))"
   ]
  }
 ],
 "metadata": {
  "interpreter": {
   "hash": "794d4fb344e7dfbd9d8e62a5303e08e679deeb8bb7cb7a546a2ca96b4c50d29e"
  },
  "kernelspec": {
   "display_name": "Python 3.10.4 64-bit (windows store)",
   "language": "python",
   "name": "python3"
  },
  "language_info": {
   "codemirror_mode": {
    "name": "ipython",
    "version": 3
   },
   "file_extension": ".py",
   "mimetype": "text/x-python",
   "name": "python",
   "nbconvert_exporter": "python",
   "pygments_lexer": "ipython3",
   "version": "3.10.4"
  },
  "orig_nbformat": 4
 },
 "nbformat": 4,
 "nbformat_minor": 2
}
