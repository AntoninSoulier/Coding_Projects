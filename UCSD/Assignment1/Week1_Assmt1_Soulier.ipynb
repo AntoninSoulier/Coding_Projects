{
  "cells": [
    {
      "cell_type": "code",
      "execution_count": 1,
      "metadata": {
        "colab": {
          "base_uri": "https://localhost:8080/"
        },
        "id": "pCG_06EsJODz",
        "outputId": "91955af1-ce14-4ad1-df3a-91c5b6d951c1"
      },
      "outputs": [
        {
          "name": "stdout",
          "output_type": "stream",
          "text": [
            "Helo\n"
          ]
        }
      ],
      "source": [
        "#1\n",
        "def front_two_back_two(input_string):\n",
        "    final_string = \" \"\n",
        "    if(len(input_string)<2):\n",
        "        return(final_string)\n",
        "    else:\n",
        "        final_string = input_string[0] + input_string[1] + input_string[-2] + input_string[-1]\n",
        "        return(final_string)\n",
        "\n",
        "print(front_two_back_two(\"Hello\"))"
      ]
    },
    {
      "cell_type": "code",
      "execution_count": 2,
      "metadata": {
        "colab": {
          "base_uri": "https://localhost:8080/"
        },
        "id": "0uBMOMU_9wnf",
        "outputId": "aafed029-a597-4387-8f5c-b05e7f472e5a"
      },
      "outputs": [
        {
          "name": "stdout",
          "output_type": "stream",
          "text": [
            "The temperature in Celsius is 42.0\n",
            "The temperature in Fahrenheit is 107.6\n"
          ]
        }
      ],
      "source": [
        "#2\n",
        "def Celsius_Fahrenheit(K_temperature):\n",
        "    C_temperature = float(K_temperature) - 273.15\n",
        "    F_temperature = (float(K_temperature) - 273.15) * 9/5 + 32\n",
        "\n",
        "    print(\"The temperature in Celsius is \" + str(C_temperature))\n",
        "    print(\"The temperature in Fahrenheit is \" + str(F_temperature))\n",
        "\n",
        "K_temperature = input()\n",
        "Celsius_Fahrenheit(K_temperature)"
      ]
    },
    {
      "cell_type": "code",
      "execution_count": 3,
      "metadata": {
        "colab": {
          "base_uri": "https://localhost:8080/"
        },
        "id": "QHE694MX-cfS",
        "outputId": "25ef88c7-12ba-400f-d4da-1893ed08c308"
      },
      "outputs": [
        {
          "name": "stdout",
          "output_type": "stream",
          "text": [
            "The first number is 1\n",
            "The last number is 4\n"
          ]
        }
      ],
      "source": [
        "#3    \n",
        "def fourDigits(input_int):\n",
        "    chain = str(input_int)\n",
        "    new_list = []\n",
        "    for i in chain:\n",
        "        new_list.append(i)\n",
        "    print(\"The first number is \" + new_list[0])\n",
        "    print(\"The last number is \" + new_list[-1])\n",
        "\n",
        "\n",
        "input_int = input()\n",
        "fourDigits(input_int)"
      ]
    },
    {
      "cell_type": "code",
      "execution_count": 1,
      "metadata": {
        "colab": {
          "base_uri": "https://localhost:8080/"
        },
        "id": "dc8LT6oYA7GT",
        "outputId": "21dfb044-8249-4a09-9d45-5bb7fd4ddf6f"
      },
      "outputs": [
        {
          "name": "stdout",
          "output_type": "stream",
          "text": [
            "[1, 3, 6]\n"
          ]
        }
      ],
      "source": [
        "#4\n",
        "list_length =  input(\"What's the length of your list? \")\n",
        "list = []\n",
        "for i in range(int(list_length)):\n",
        "    x = int(input(\"value [\"+ str(i) + \"] = \"))\n",
        "    list.append(x)\n",
        "\n",
        "def min_max_sum(list):\n",
        "    final_list = []\n",
        "\n",
        "    min_value = min(list)\n",
        "    max_value = max(list)\n",
        "    sum_value = sum(list)\n",
        "\n",
        "    final_list.extend([min_value, max_value, sum_value])\n",
        "\n",
        "    return(final_list)   \n",
        "\n",
        "print(min_max_sum(list))\n"
      ]
    },
    {
      "cell_type": "code",
      "execution_count": 5,
      "metadata": {
        "colab": {
          "base_uri": "https://localhost:8080/"
        },
        "id": "aXAkwJWlH_by",
        "outputId": "de5e6867-2715-41d0-81a0-8da627f9e8db"
      },
      "outputs": [
        {
          "name": "stdout",
          "output_type": "stream",
          "text": [
            "{1: 1, 2: 4, 3: 9, 4: 16, 5: 25, 6: 36, 7: 49, 8: 64, 9: 81, 10: 100, 11: 121, 12: 144, 13: 169, 14: 196, 15: 225}\n"
          ]
        }
      ],
      "source": [
        "#5\n",
        "def print_square():\n",
        "    dictionnary = {}\n",
        "    for i in range (1,16):\n",
        "        dictionnary[i] = i*i\n",
        "    print(dictionnary)\n",
        "\n",
        "print_square()"
      ]
    }
  ],
  "metadata": {
    "colab": {
      "collapsed_sections": [],
      "name": "Week1-Assmt1_Soulier.ipynb",
      "provenance": []
    },
    "kernelspec": {
      "display_name": "Python 3",
      "name": "python3"
    },
    "language_info": {
      "codemirror_mode": {
        "name": "ipython",
        "version": 3
      },
      "file_extension": ".py",
      "mimetype": "text/x-python",
      "name": "python",
      "nbconvert_exporter": "python",
      "pygments_lexer": "ipython3",
      "version": "3.10.4"
    }
  },
  "nbformat": 4,
  "nbformat_minor": 0
}
