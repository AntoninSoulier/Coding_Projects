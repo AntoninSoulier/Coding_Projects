{
 "cells": [
  {
   "cell_type": "code",
   "execution_count": 1,
   "metadata": {},
   "outputs": [
    {
     "name": "stdout",
     "output_type": "stream",
     "text": [
      "[9, -1, 7, 8]\n"
     ]
    }
   ],
   "source": [
    "#Question 9\n",
    "my_tuple = [(),(1,2),(2,3),(3,4)]\n",
    "other_tuple = [(1,2,6),(2,3,-6),(3,4),(2,2,2,2)]\n",
    "\n",
    "def sum_tuples(my_tuple):\n",
    "    return_list = []\n",
    "\n",
    "    for value in my_tuple:\n",
    "        if(not(value)): #check if tuple is empty\n",
    "            temp = 0 #if empty temp is 0\n",
    "        else:\n",
    "            temp = sum(value)\n",
    "            return_list.append(temp)\n",
    "\n",
    "    return(return_list)\n",
    "   \n",
    "print(sum_tuples(other_tuple))"
   ]
  }
 ],
 "metadata": {
  "interpreter": {
   "hash": "d9a4ba7a39ad5692da286452aea182a2f639774b342ad6371c4f013f8b98072d"
  },
  "kernelspec": {
   "display_name": "Python 3.10.4 64-bit",
   "language": "python",
   "name": "python3"
  },
  "language_info": {
   "codemirror_mode": {
    "name": "ipython",
    "version": 3
   },
   "file_extension": ".py",
   "mimetype": "text/x-python",
   "name": "python",
   "nbconvert_exporter": "python",
   "pygments_lexer": "ipython3",
   "version": "3.10.4"
  },
  "orig_nbformat": 4
 },
 "nbformat": 4,
 "nbformat_minor": 2
}
