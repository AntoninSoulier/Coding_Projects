{
 "cells": [
  {
   "cell_type": "markdown",
   "metadata": {},
   "source": [
    "# Iris Flower Dataset\n",
    "#### We're going to build on the lab from class using the Iris Flower Dataset<br>\n",
    "This is a good dataset for your first project because it is so well understood. \n",
    "<br>\n",
    "• Attributes are numeric so you do not have to figure out how to load and handle data.<br>\n",
    "• It is a classication problem, allowing you to practice with an easier type of supervised learning algorithm.<br>\n",
    "• It is a multiclass classification problem (multi-nominal) that may require some specialized handling.<br>\n",
    "• It only has 4 attributes and 150 rows, meaning it is small and easily fits into memory (and a screen or single sheet of paper).<br>\n",
    "• All of the numeric attributes are in the same units and the same scale not requiring any special scaling or transforms to get started."
   ]
  },
  {
   "cell_type": "markdown",
   "metadata": {},
   "source": [
    "In this tutorial we are going to work through a small machine learning project end-to-end.\n",
    "Here is an overview of what we are going to cover:\n",
    "1. Loading the dataset.\n",
    "2. Summarizing the dataset.\n",
    "3. Visualizing the dataset.\n",
    "4. Evaluating some algorithms.\n",
    "5. Making some predictions."
   ]
  },
  {
   "cell_type": "markdown",
   "metadata": {},
   "source": [
    "#### Import libraries"
   ]
  },
  {
   "cell_type": "code",
   "execution_count": 131,
   "metadata": {},
   "outputs": [],
   "source": [
    "# Load libraries\n",
    "from pandas import read_csv\n",
    "from pandas.plotting import scatter_matrix\n",
    "from matplotlib import pyplot\n",
    "from sklearn.model_selection import train_test_split\n",
    "from sklearn.model_selection import KFold\n",
    "from sklearn.model_selection import cross_val_score\n",
    "from sklearn.metrics import classification_report\n",
    "from sklearn.metrics import confusion_matrix\n",
    "from sklearn.metrics import accuracy_score\n",
    "from sklearn.linear_model import LogisticRegression\n",
    "from sklearn.tree import DecisionTreeClassifier\n",
    "from sklearn.neighbors import KNeighborsClassifier\n",
    "from sklearn.discriminant_analysis import LinearDiscriminantAnalysis\n",
    "from sklearn.naive_bayes import GaussianNB\n",
    "from sklearn.svm import SVC"
   ]
  },
  {
   "cell_type": "markdown",
   "metadata": {},
   "source": [
    "#### COMPLETE CODE IN CELL BELOW"
   ]
  },
  {
   "cell_type": "code",
   "execution_count": 132,
   "metadata": {},
   "outputs": [
    {
     "data": {
      "text/html": [
       "<div>\n",
       "<style scoped>\n",
       "    .dataframe tbody tr th:only-of-type {\n",
       "        vertical-align: middle;\n",
       "    }\n",
       "\n",
       "    .dataframe tbody tr th {\n",
       "        vertical-align: top;\n",
       "    }\n",
       "\n",
       "    .dataframe thead th {\n",
       "        text-align: right;\n",
       "    }\n",
       "</style>\n",
       "<table border=\"1\" class=\"dataframe\">\n",
       "  <thead>\n",
       "    <tr style=\"text-align: right;\">\n",
       "      <th></th>\n",
       "      <th>Sepal-Length</th>\n",
       "      <th>Sepal-Width</th>\n",
       "      <th>Petal-Length</th>\n",
       "      <th>Petal-Width</th>\n",
       "      <th>Iris-Class</th>\n",
       "    </tr>\n",
       "  </thead>\n",
       "  <tbody>\n",
       "    <tr>\n",
       "      <th>0</th>\n",
       "      <td>5.1</td>\n",
       "      <td>3.5</td>\n",
       "      <td>1.4</td>\n",
       "      <td>0.2</td>\n",
       "      <td>Iris-setosa</td>\n",
       "    </tr>\n",
       "    <tr>\n",
       "      <th>1</th>\n",
       "      <td>4.9</td>\n",
       "      <td>3.0</td>\n",
       "      <td>1.4</td>\n",
       "      <td>0.2</td>\n",
       "      <td>Iris-setosa</td>\n",
       "    </tr>\n",
       "    <tr>\n",
       "      <th>2</th>\n",
       "      <td>4.7</td>\n",
       "      <td>3.2</td>\n",
       "      <td>1.3</td>\n",
       "      <td>0.2</td>\n",
       "      <td>Iris-setosa</td>\n",
       "    </tr>\n",
       "    <tr>\n",
       "      <th>3</th>\n",
       "      <td>4.6</td>\n",
       "      <td>3.1</td>\n",
       "      <td>1.5</td>\n",
       "      <td>0.2</td>\n",
       "      <td>Iris-setosa</td>\n",
       "    </tr>\n",
       "    <tr>\n",
       "      <th>4</th>\n",
       "      <td>5.0</td>\n",
       "      <td>3.6</td>\n",
       "      <td>1.4</td>\n",
       "      <td>0.2</td>\n",
       "      <td>Iris-setosa</td>\n",
       "    </tr>\n",
       "    <tr>\n",
       "      <th>...</th>\n",
       "      <td>...</td>\n",
       "      <td>...</td>\n",
       "      <td>...</td>\n",
       "      <td>...</td>\n",
       "      <td>...</td>\n",
       "    </tr>\n",
       "    <tr>\n",
       "      <th>145</th>\n",
       "      <td>6.7</td>\n",
       "      <td>3.0</td>\n",
       "      <td>5.2</td>\n",
       "      <td>2.3</td>\n",
       "      <td>Iris-virginica</td>\n",
       "    </tr>\n",
       "    <tr>\n",
       "      <th>146</th>\n",
       "      <td>6.3</td>\n",
       "      <td>2.5</td>\n",
       "      <td>5.0</td>\n",
       "      <td>1.9</td>\n",
       "      <td>Iris-virginica</td>\n",
       "    </tr>\n",
       "    <tr>\n",
       "      <th>147</th>\n",
       "      <td>6.5</td>\n",
       "      <td>3.0</td>\n",
       "      <td>5.2</td>\n",
       "      <td>2.0</td>\n",
       "      <td>Iris-virginica</td>\n",
       "    </tr>\n",
       "    <tr>\n",
       "      <th>148</th>\n",
       "      <td>6.2</td>\n",
       "      <td>3.4</td>\n",
       "      <td>5.4</td>\n",
       "      <td>2.3</td>\n",
       "      <td>Iris-virginica</td>\n",
       "    </tr>\n",
       "    <tr>\n",
       "      <th>149</th>\n",
       "      <td>5.9</td>\n",
       "      <td>3.0</td>\n",
       "      <td>5.1</td>\n",
       "      <td>1.8</td>\n",
       "      <td>Iris-virginica</td>\n",
       "    </tr>\n",
       "  </tbody>\n",
       "</table>\n",
       "<p>150 rows × 5 columns</p>\n",
       "</div>"
      ],
      "text/plain": [
       "     Sepal-Length  Sepal-Width  Petal-Length  Petal-Width      Iris-Class\n",
       "0             5.1          3.5           1.4          0.2     Iris-setosa\n",
       "1             4.9          3.0           1.4          0.2     Iris-setosa\n",
       "2             4.7          3.2           1.3          0.2     Iris-setosa\n",
       "3             4.6          3.1           1.5          0.2     Iris-setosa\n",
       "4             5.0          3.6           1.4          0.2     Iris-setosa\n",
       "..            ...          ...           ...          ...             ...\n",
       "145           6.7          3.0           5.2          2.3  Iris-virginica\n",
       "146           6.3          2.5           5.0          1.9  Iris-virginica\n",
       "147           6.5          3.0           5.2          2.0  Iris-virginica\n",
       "148           6.2          3.4           5.4          2.3  Iris-virginica\n",
       "149           5.9          3.0           5.1          1.8  Iris-virginica\n",
       "\n",
       "[150 rows x 5 columns]"
      ]
     },
     "execution_count": 132,
     "metadata": {},
     "output_type": "execute_result"
    }
   ],
   "source": [
    "# Load dataset\n",
    "import pandas as pd\n",
    "filename = 'iris.data.csv'\n",
    "names = ['sepal-length', 'sepal-width', 'petal-length', 'petal-width', 'class']\n",
    "# TODO: read the csv file\n",
    "dataset = pd.read_csv(filename)\n",
    "dataset"
   ]
  },
  {
   "cell_type": "markdown",
   "metadata": {},
   "source": [
    "#### Summarize the Dataset\n",
    "Now it is time to take a look at the data. In this step we are going to take a look at the data a\n",
    "few different ways:<br>\n",
    "• Dimensions of the dataset.<br>\n",
    "• Peek at the data itself.<br>\n",
    "• Statistical summary of all attributes.<br>\n",
    "• Breakdown of the data by the class variable.<br>"
   ]
  },
  {
   "cell_type": "markdown",
   "metadata": {},
   "source": [
    "#### Dimensions of Dataset\n",
    "We can get a quick idea of how many instances (rows) and how many attributes (columns) the\n",
    "data contains with the shape property.\n",
    "#### COMPLETE CODE IN CELL BELOW"
   ]
  },
  {
   "cell_type": "code",
   "execution_count": 133,
   "metadata": {},
   "outputs": [
    {
     "data": {
      "text/plain": [
       "(150, 5)"
      ]
     },
     "execution_count": 133,
     "metadata": {},
     "output_type": "execute_result"
    }
   ],
   "source": [
    "# TODO: print the shape of the dataset \n",
    "# This should return 150 instances and 5 attributes for the dataset.\n",
    "dataset.shape"
   ]
  },
  {
   "cell_type": "markdown",
   "metadata": {},
   "source": [
    "#### Peek at the Data\n",
    "It is also always a good idea to actually eyeball your data.\n",
    "#### COMPLETE CODE IN CELL BELOW"
   ]
  },
  {
   "cell_type": "code",
   "execution_count": 134,
   "metadata": {},
   "outputs": [
    {
     "name": "stdout",
     "output_type": "stream",
     "text": [
      "    Sepal-Length  Sepal-Width  Petal-Length  Petal-Width   Iris-Class\n",
      "0            5.1          3.5           1.4          0.2  Iris-setosa\n",
      "1            4.9          3.0           1.4          0.2  Iris-setosa\n",
      "2            4.7          3.2           1.3          0.2  Iris-setosa\n",
      "3            4.6          3.1           1.5          0.2  Iris-setosa\n",
      "4            5.0          3.6           1.4          0.2  Iris-setosa\n",
      "5            5.4          3.9           1.7          0.4  Iris-setosa\n",
      "6            4.6          3.4           1.4          0.3  Iris-setosa\n",
      "7            5.0          3.4           1.5          0.2  Iris-setosa\n",
      "8            4.4          2.9           1.4          0.2  Iris-setosa\n",
      "9            4.9          3.1           1.5          0.1  Iris-setosa\n",
      "10           5.4          3.7           1.5          0.2  Iris-setosa\n",
      "11           4.8          3.4           1.6          0.2  Iris-setosa\n",
      "12           4.8          3.0           1.4          0.1  Iris-setosa\n",
      "13           4.3          3.0           1.1          0.1  Iris-setosa\n",
      "14           5.8          4.0           1.2          0.2  Iris-setosa\n",
      "15           5.7          4.4           1.5          0.4  Iris-setosa\n",
      "16           5.4          3.9           1.3          0.4  Iris-setosa\n",
      "17           5.1          3.5           1.4          0.3  Iris-setosa\n",
      "18           5.7          3.8           1.7          0.3  Iris-setosa\n",
      "19           5.1          3.8           1.5          0.3  Iris-setosa\n"
     ]
    }
   ],
   "source": [
    "# TODO: print the first 20 rows of the data\n",
    "first_20 = dataset.head(20)\n",
    "print(first_20)"
   ]
  },
  {
   "cell_type": "markdown",
   "metadata": {},
   "source": [
    "#### Statistical Summary\n",
    "Now we can take a look at a summary of each attribute. This includes the count, mean, the\n",
    "min and max values as well as some percentiles.\n",
    "\n",
    "#### COMPLETE CODE IN CELL BELOW"
   ]
  },
  {
   "cell_type": "code",
   "execution_count": 135,
   "metadata": {},
   "outputs": [
    {
     "data": {
      "text/html": [
       "<div>\n",
       "<style scoped>\n",
       "    .dataframe tbody tr th:only-of-type {\n",
       "        vertical-align: middle;\n",
       "    }\n",
       "\n",
       "    .dataframe tbody tr th {\n",
       "        vertical-align: top;\n",
       "    }\n",
       "\n",
       "    .dataframe thead th {\n",
       "        text-align: right;\n",
       "    }\n",
       "</style>\n",
       "<table border=\"1\" class=\"dataframe\">\n",
       "  <thead>\n",
       "    <tr style=\"text-align: right;\">\n",
       "      <th></th>\n",
       "      <th>Sepal-Length</th>\n",
       "      <th>Sepal-Width</th>\n",
       "      <th>Petal-Length</th>\n",
       "      <th>Petal-Width</th>\n",
       "    </tr>\n",
       "  </thead>\n",
       "  <tbody>\n",
       "    <tr>\n",
       "      <th>count</th>\n",
       "      <td>150.000000</td>\n",
       "      <td>150.000000</td>\n",
       "      <td>150.000000</td>\n",
       "      <td>150.000000</td>\n",
       "    </tr>\n",
       "    <tr>\n",
       "      <th>mean</th>\n",
       "      <td>5.843333</td>\n",
       "      <td>3.054000</td>\n",
       "      <td>3.758667</td>\n",
       "      <td>1.198667</td>\n",
       "    </tr>\n",
       "    <tr>\n",
       "      <th>std</th>\n",
       "      <td>0.828066</td>\n",
       "      <td>0.433594</td>\n",
       "      <td>1.764420</td>\n",
       "      <td>0.763161</td>\n",
       "    </tr>\n",
       "    <tr>\n",
       "      <th>min</th>\n",
       "      <td>4.300000</td>\n",
       "      <td>2.000000</td>\n",
       "      <td>1.000000</td>\n",
       "      <td>0.100000</td>\n",
       "    </tr>\n",
       "    <tr>\n",
       "      <th>25%</th>\n",
       "      <td>5.100000</td>\n",
       "      <td>2.800000</td>\n",
       "      <td>1.600000</td>\n",
       "      <td>0.300000</td>\n",
       "    </tr>\n",
       "    <tr>\n",
       "      <th>50%</th>\n",
       "      <td>5.800000</td>\n",
       "      <td>3.000000</td>\n",
       "      <td>4.350000</td>\n",
       "      <td>1.300000</td>\n",
       "    </tr>\n",
       "    <tr>\n",
       "      <th>75%</th>\n",
       "      <td>6.400000</td>\n",
       "      <td>3.300000</td>\n",
       "      <td>5.100000</td>\n",
       "      <td>1.800000</td>\n",
       "    </tr>\n",
       "    <tr>\n",
       "      <th>max</th>\n",
       "      <td>7.900000</td>\n",
       "      <td>4.400000</td>\n",
       "      <td>6.900000</td>\n",
       "      <td>2.500000</td>\n",
       "    </tr>\n",
       "  </tbody>\n",
       "</table>\n",
       "</div>"
      ],
      "text/plain": [
       "       Sepal-Length  Sepal-Width  Petal-Length  Petal-Width\n",
       "count    150.000000   150.000000    150.000000   150.000000\n",
       "mean       5.843333     3.054000      3.758667     1.198667\n",
       "std        0.828066     0.433594      1.764420     0.763161\n",
       "min        4.300000     2.000000      1.000000     0.100000\n",
       "25%        5.100000     2.800000      1.600000     0.300000\n",
       "50%        5.800000     3.000000      4.350000     1.300000\n",
       "75%        6.400000     3.300000      5.100000     1.800000\n",
       "max        7.900000     4.400000      6.900000     2.500000"
      ]
     },
     "execution_count": 135,
     "metadata": {},
     "output_type": "execute_result"
    }
   ],
   "source": [
    "#TODO: print descriptions\n",
    "dataset.describe()"
   ]
  },
  {
   "cell_type": "markdown",
   "metadata": {},
   "source": [
    "#### Class Distribution\n",
    "Let's take a look at the number of instances (rows) that belong to each class. We can view this\n",
    "as an absolute count.\n",
    "#### COMPLETE THE CODE BELOW"
   ]
  },
  {
   "cell_type": "code",
   "execution_count": 136,
   "metadata": {},
   "outputs": [
    {
     "data": {
      "text/plain": [
       "Iris-setosa        50\n",
       "Iris-versicolor    50\n",
       "Iris-virginica     50\n",
       "Name: Iris-Class, dtype: int64"
      ]
     },
     "execution_count": 136,
     "metadata": {},
     "output_type": "execute_result"
    }
   ],
   "source": [
    "# print class distribution\n",
    "dataset['Iris-Class'].value_counts()"
   ]
  },
  {
   "cell_type": "markdown",
   "metadata": {},
   "source": [
    "#### Data Visualization\n",
    "We now have a basic idea about the data. We need to extend this with some visualizations. We\n",
    "are going to look at two types of plots:<br>\n",
    "• Univariate plots to better understand each attribute.<br>\n",
    "• Multivariate plots to better understand the relationships between attributes.\n",
    "#### Univariate Plots\n",
    "We will start with some univariate plots, that is, plots of each individual variable. Given that\n",
    "the input variables are numeric, we can create box and whisker plots of each."
   ]
  },
  {
   "cell_type": "code",
   "execution_count": 137,
   "metadata": {},
   "outputs": [
    {
     "data": {
      "image/png": "[encoded data removed]",
      "text/plain": [
       "<Figure size 432x288 with 4 Axes>"
      ]
     },
     "metadata": {
      "needs_background": "light"
     },
     "output_type": "display_data"
    }
   ],
   "source": [
    "# box and whisker plots\n",
    "dataset.plot(kind='box', subplots=True, layout=(2,2), sharex=False, sharey=False)\n",
    "pyplot.show()"
   ]
  },
  {
   "cell_type": "markdown",
   "metadata": {},
   "source": [
    "We can also create a histogram of each input variable to get an idea of the distribution.\n",
    "#### COMPLETE THE CODE BELOW"
   ]
  },
  {
   "cell_type": "code",
   "execution_count": 138,
   "metadata": {},
   "outputs": [
    {
     "data": {
      "text/plain": [
       "<AxesSubplot:title={'center':'sepal length'}, ylabel='Frequency'>"
      ]
     },
     "execution_count": 138,
     "metadata": {},
     "output_type": "execute_result"
    },
    {
     "data": {
      "image/png": "[encoded data removed]",
      "text/plain": [
       "<Figure size 432x288 with 1 Axes>"
      ]
     },
     "metadata": {
      "needs_background": "light"
     },
     "output_type": "display_data"
    }
   ],
   "source": [
    "# TODO: create histogram plots of each attribute for the dataset\n",
    "\n",
    "dataset['Sepal-Length'].plot(kind='hist', title='sepal length')\n"
   ]
  },
  {
   "cell_type": "code",
   "execution_count": 139,
   "metadata": {},
   "outputs": [
    {
     "data": {
      "text/plain": [
       "<AxesSubplot:title={'center':'Sepal Width'}, ylabel='Frequency'>"
      ]
     },
     "execution_count": 139,
     "metadata": {},
     "output_type": "execute_result"
    },
    {
     "data": {
      "image/png": "[encoded data removed]",
      "text/plain": [
       "<Figure size 432x288 with 1 Axes>"
      ]
     },
     "metadata": {
      "needs_background": "light"
     },
     "output_type": "display_data"
    }
   ],
   "source": [
    "dataset['Sepal-Width'].plot(kind='hist', title='Sepal Width')\n"
   ]
  },
  {
   "cell_type": "code",
   "execution_count": 140,
   "metadata": {},
   "outputs": [
    {
     "data": {
      "text/plain": [
       "<AxesSubplot:title={'center':'Petal Length'}, ylabel='Frequency'>"
      ]
     },
     "execution_count": 140,
     "metadata": {},
     "output_type": "execute_result"
    },
    {
     "data": {
      "image/png": "[encoded data removed]",
      "text/plain": [
       "<Figure size 432x288 with 1 Axes>"
      ]
     },
     "metadata": {
      "needs_background": "light"
     },
     "output_type": "display_data"
    }
   ],
   "source": [
    "dataset['Petal-Length'].plot(kind='hist', title='Petal Length')\n"
   ]
  },
  {
   "cell_type": "code",
   "execution_count": 141,
   "metadata": {},
   "outputs": [
    {
     "data": {
      "text/plain": [
       "<AxesSubplot:title={'center':'Petal Width'}, ylabel='Frequency'>"
      ]
     },
     "execution_count": 141,
     "metadata": {},
     "output_type": "execute_result"
    },
    {
     "data": {
      "image/png": "[encoded data removed]",
      "text/plain": [
       "<Figure size 432x288 with 1 Axes>"
      ]
     },
     "metadata": {
      "needs_background": "light"
     },
     "output_type": "display_data"
    }
   ],
   "source": [
    "dataset['Petal-Width'].plot(kind='hist', title='Petal Width')\n"
   ]
  },
  {
   "cell_type": "markdown",
   "metadata": {},
   "source": [
    "#### Multivariate Plots\n",
    "Now we can look at the interactions between the variables. Let's look at scatter plots of all pairs of attributes. This can be helpful to spot structured relationships between input variables.\n",
    "#### COMPLETE THE CODE BELOW"
   ]
  },
  {
   "cell_type": "code",
   "execution_count": 142,
   "metadata": {},
   "outputs": [
    {
     "data": {
      "text/plain": [
       "array([[<AxesSubplot:xlabel='sepal_length', ylabel='sepal_length'>,\n",
       "        <AxesSubplot:xlabel='sepal_width', ylabel='sepal_length'>,\n",
       "        <AxesSubplot:xlabel='petal_length', ylabel='sepal_length'>,\n",
       "        <AxesSubplot:xlabel='petal_width', ylabel='sepal_length'>],\n",
       "       [<AxesSubplot:xlabel='sepal_length', ylabel='sepal_width'>,\n",
       "        <AxesSubplot:xlabel='sepal_width', ylabel='sepal_width'>,\n",
       "        <AxesSubplot:xlabel='petal_length', ylabel='sepal_width'>,\n",
       "        <AxesSubplot:xlabel='petal_width', ylabel='sepal_width'>],\n",
       "       [<AxesSubplot:xlabel='sepal_length', ylabel='petal_length'>,\n",
       "        <AxesSubplot:xlabel='sepal_width', ylabel='petal_length'>,\n",
       "        <AxesSubplot:xlabel='petal_length', ylabel='petal_length'>,\n",
       "        <AxesSubplot:xlabel='petal_width', ylabel='petal_length'>],\n",
       "       [<AxesSubplot:xlabel='sepal_length', ylabel='petal_width'>,\n",
       "        <AxesSubplot:xlabel='sepal_width', ylabel='petal_width'>,\n",
       "        <AxesSubplot:xlabel='petal_length', ylabel='petal_width'>,\n",
       "        <AxesSubplot:xlabel='petal_width', ylabel='petal_width'>]],\n",
       "      dtype=object)"
      ]
     },
     "execution_count": 142,
     "metadata": {},
     "output_type": "execute_result"
    },
    {
     "data": {
      "image/png": "[encoded data removed]",
      "text/plain": [
       "<Figure size 432x288 with 16 Axes>"
      ]
     },
     "metadata": {
      "needs_background": "light"
     },
     "output_type": "display_data"
    }
   ],
   "source": [
    "#TODO: create a scatter plot matrix\n",
    "\n",
    "#Note the diagonal grouping of some pairs of attributes. This suggests a high correlation and\n",
    "#a predictable relationship.\n",
    "df = pd.DataFrame(dataset)\n",
    "df.columns = ['sepal_length', 'sepal_width', 'petal_length', 'petal_width','class']\n",
    "pd.plotting.scatter_matrix(df)"
   ]
  },
  {
   "cell_type": "markdown",
   "metadata": {},
   "source": [
    "### Evaluate Some Algorithms\n",
    "Now it is time to create some models of the data and estimate their accuracy on unseen data.\n",
    "Here is what we are going to cover in this step:\n",
    "1. Separate out a validation dataset.\n",
    "2. Setup the test harness to use 10-fold cross-validation.\n",
    "3. Build 5 different models to predict species from ower measurements\n",
    "4. Select the best model.\n",
    "\n",
    "#### Create a Validation Dataset\n",
    "We need to know whether or not the model that we created is any good. Later, we will use\n",
    "statistical methods to estimate the accuracy of the models that we create on unseen data.\n",
    "We also want a more concrete estimate of the accuracy of the best model on unseen data by\n",
    "evaluating it on actual unseen data. That is, we are going to hold back some data that the\n",
    "algorithms will not get to see and we will use this data to get a second and independent idea of how accurate the best model might actually be. We will split the loaded dataset into two, 80%\n",
    "of which we will use to train our models and 20% that we will hold back as a validation dataset.\n",
    "#### COMPLETE THE CODE BELOW"
   ]
  },
  {
   "cell_type": "code",
   "execution_count": 143,
   "metadata": {},
   "outputs": [
    {
     "name": "stdout",
     "output_type": "stream",
     "text": [
      "     sepal_length  sepal_width  petal_length  petal_width\n",
      "0             5.1          3.5           1.4          0.2\n",
      "1             4.9          3.0           1.4          0.2\n",
      "2             4.7          3.2           1.3          0.2\n",
      "3             4.6          3.1           1.5          0.2\n",
      "4             5.0          3.6           1.4          0.2\n",
      "..            ...          ...           ...          ...\n",
      "145           6.7          3.0           5.2          2.3\n",
      "146           6.3          2.5           5.0          1.9\n",
      "147           6.5          3.0           5.2          2.0\n",
      "148           6.2          3.4           5.4          2.3\n",
      "149           5.9          3.0           5.1          1.8\n",
      "\n",
      "[150 rows x 4 columns]\n",
      "0         Iris-setosa\n",
      "1         Iris-setosa\n",
      "2         Iris-setosa\n",
      "3         Iris-setosa\n",
      "4         Iris-setosa\n",
      "            ...      \n",
      "145    Iris-virginica\n",
      "146    Iris-virginica\n",
      "147    Iris-virginica\n",
      "148    Iris-virginica\n",
      "149    Iris-virginica\n",
      "Name: class, Length: 150, dtype: object\n"
     ]
    }
   ],
   "source": [
    "# TODO: Split-out validation dataset\n",
    "# You should have training data in the X train and Y train for preparing models and a\n",
    "# X validation and Y validation sets that we can use later.\n",
    "\n",
    "array = dataset.values\n",
    "X =  dataset[['sepal_length','sepal_width','petal_length','petal_width']]\n",
    "y =  dataset['class']\n",
    "\n",
    "validation_size = 10\n",
    "seed = 7\n",
    "\n",
    "print(X)\n",
    "print(y)\n",
    "\n",
    "X_train, X_test, y_train, y_test = train_test_split(X,y,test_size=0.20)\n"
   ]
  },
  {
   "cell_type": "markdown",
   "metadata": {},
   "source": [
    "### Test Harness\n",
    "We will use 10-fold cross-validation to estimate accuracy on unseen data. This will split our\n",
    "dataset into 10 parts, e.g. the model will train on 9 and test on 1 and repeat for all combinations\n",
    "of train-test splits. We are using the metric of accuracy to evaluate models. This is a proportion\n",
    "of the number of correctly predicted instances divided by the total number of instances in the\n",
    "dataset multiplied by 100 to give a percentage (e.g. 95% accurate). We will be using the scoring\n",
    "variable when we run build and evaluate each model next.\n",
    "\n",
    "#### Build Models\n",
    "We don't know which algorithms would be good on this problem or what con gurations to use.\n",
    "We got an idea from the plots that some of the classes are partially linearly separable in some\n",
    "dimensions, so we are expecting generally good results. Let's evaluate six different algorithms:<br>\n",
    "• Logistic Regression (LR).<br>\n",
    "• Linear Discriminant Analysis (LDA).<br>\n",
    "• k-Nearest Neighbors (KNN).<br>\n",
    "• Classification and Regression Trees (CART).<br>\n",
    "• Gaussian Naive Bayes (NB).<br>\n",
    "• Support Vector Machines (SVM).<br>\n",
    "This list is a good mixture of simple linear (LR and LDA), and nonlinear (KNN, CART,\n",
    "NB and SVM) algorithms. We reset the random number seed before each run to ensure that\n",
    "the evaluation of each algorithm is performed using exactly the same data splits. It ensures the\n",
    "results are directly comparable. Let's build and evaluate our five models:\n"
   ]
  },
  {
   "cell_type": "code",
   "execution_count": 144,
   "metadata": {},
   "outputs": [
    {
     "name": "stdout",
     "output_type": "stream",
     "text": [
      "LR: 0.958333 (0.041667)\n",
      "LDA: 0.991667 (0.025000)\n",
      "KNN: 0.975000 (0.038188)\n",
      "CART: 0.950000 (0.055277)\n",
      "NB: 0.975000 (0.038188)\n",
      "SVM: 0.975000 (0.038188)\n"
     ]
    }
   ],
   "source": [
    "# Spot-Check Algorithms\n",
    "models = []\n",
    "models.append(('LR', LogisticRegression(solver='liblinear', multi_class='ovr')))\n",
    "models.append(('LDA', LinearDiscriminantAnalysis()))\n",
    "models.append(('KNN', KNeighborsClassifier()))\n",
    "models.append(('CART', DecisionTreeClassifier()))\n",
    "models.append(('NB', GaussianNB()))\n",
    "models.append(('SVM', SVC(gamma='auto')))\n",
    "\n",
    "# evaluate each model in turn\n",
    "results = []\n",
    "names = []\n",
    "for name, model in models:\n",
    "    kfold = KFold(n_splits=10, random_state=seed, shuffle=True)\n",
    "    cv_results = cross_val_score(model, X_train, y_train, cv=kfold, scoring='accuracy')\n",
    "    results.append(cv_results)\n",
    "    names.append(name)\n",
    "    msg = \"%s: %f (%f)\" % (name, cv_results.mean(), cv_results.std())\n",
    "    print(msg)"
   ]
  },
  {
   "cell_type": "markdown",
   "metadata": {},
   "source": [
    "#### Select The Best Model\n",
    "We now have 6 models and accuracy estimations for each. We need to compare the models to\n",
    "each other and select the most accurate. Running the example above, we get the following raw\n",
    "results:<br>\n",
    "LR: 0.958333 (0.055902)<br>\n",
    "LDA: 0.975000 (0.038188)<br>\n",
    "KNN: 0.983333 (0.033333)<br>\n",
    "CART: 0.950000 (0.076376)<br>\n",
    "NB: 0.966667 (0.040825)<br>\n",
    "SVM: 0.991667 (0.025000)<br>\n",
    "We can see that it looks like KNN has the largest estimated accuracy score. We can also\n",
    "create a plot of the model evaluation results and compare the spread and the mean accuracy\n",
    "of each model. There is a population of accuracy measures for each algorithm because each\n",
    "algorithm was evaluated 10 times (10 fold cross-validation).\n",
    "\n",
    "#### COMPLETE THE CODE BELOW"
   ]
  },
  {
   "cell_type": "code",
   "execution_count": 145,
   "metadata": {},
   "outputs": [
    {
     "data": {
      "image/png": "[encoded data removed]",
      "text/plain": [
       "<Figure size 432x288 with 1 Axes>"
      ]
     },
     "metadata": {
      "needs_background": "light"
     },
     "output_type": "display_data"
    }
   ],
   "source": [
    "# Compare Algorithms\n",
    "fig = pyplot.figure()\n",
    "fig.suptitle('Algorithm Comparison')\n",
    "ax = fig.add_subplot(111)\n",
    "pyplot.boxplot(results)\n",
    "ax.set_xticklabels(names)\n",
    "pyplot.show()"
   ]
  },
  {
   "cell_type": "markdown",
   "metadata": {},
   "source": [
    "#### Make Predictions\n",
    "The KNN algorithm was the most accurate model that we tested. Now we want to get an idea\n",
    "of the accuracy of the model on our validation dataset. This will give us an independent  final\n",
    "check on the accuracy of the best model. It is important to keep a validation set just in case\n",
    "you made a slip during training, such as over fitting to the training set or a data leak. Both\n",
    "will result in an overly optimistic result. We can run the KNN model directly on the validation\n",
    "set and summarize the results as a final accuracy score, a confusion matrix and a classification\n",
    "report.\n",
    "#### COMPLETE CODE IN CELL BELOW"
   ]
  },
  {
   "cell_type": "code",
   "execution_count": 146,
   "metadata": {},
   "outputs": [
    {
     "name": "stdout",
     "output_type": "stream",
     "text": [
      "Accuracy score: 0.9\n",
      "Confusion matrix: \n",
      "[[11  0  0]\n",
      " [ 0  7  1]\n",
      " [ 0  2  9]]\n",
      "Classification report: \n",
      "                 precision    recall  f1-score   support\n",
      "\n",
      "    Iris-setosa       1.00      1.00      1.00        11\n",
      "Iris-versicolor       0.78      0.88      0.82         8\n",
      " Iris-virginica       0.90      0.82      0.86        11\n",
      "\n",
      "       accuracy                           0.90        30\n",
      "      macro avg       0.89      0.90      0.89        30\n",
      "   weighted avg       0.90      0.90      0.90        30\n",
      "\n"
     ]
    }
   ],
   "source": [
    "# TODO:Make predictions on validation dataset\n",
    "# We can see that the accuracy is 0.9 or 90%. The confusion matrix provides an indication of\n",
    "# the three errors made. Finally the classification report provides a breakdown of each class by\n",
    "# precision, recall, f1-score and support showing excellent results (granted the validation dataset\n",
    "# was small). \n",
    "knn = KNeighborsClassifier()\n",
    "knn.fit(X_train, y_train)\n",
    "predictions = knn.predict(X_test)\n",
    "\n",
    "#TODO: summarize the results by printing a final accuracy score, a confusion matrix \n",
    "# and a classification report.\n",
    "final_score = accuracy_score(y_test,predictions)\n",
    "print(\"Accuracy score: \" + str(final_score))\n",
    "\n",
    "conf_matrix = confusion_matrix(y_test, predictions)\n",
    "print(\"Confusion matrix: \")\n",
    "print(conf_matrix)\n",
    "\n",
    "print(\"Classification report: \")\n",
    "print(classification_report(y_test,predictions))"
   ]
  }
 ],
 "metadata": {
  "interpreter": {
   "hash": "dc9198d752fabc74015ca3ce8d5de7530466fab88e0eb7c14aeb98fcedbad7af"
  },
  "kernelspec": {
   "display_name": "Python 3.10.4 64-bit (windows store)",
   "language": "python",
   "name": "python3"
  },
  "language_info": {
   "codemirror_mode": {
    "name": "ipython",
    "version": 3
   },
   "file_extension": ".py",
   "mimetype": "text/x-python",
   "name": "python",
   "nbconvert_exporter": "python",
   "pygments_lexer": "ipython3",
   "version": "3.10.4"
  }
 },
 "nbformat": 4,
 "nbformat_minor": 4
}
