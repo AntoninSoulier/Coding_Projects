{
 "cells": [
  {
   "cell_type": "code",
   "execution_count": 8,
   "metadata": {},
   "outputs": [
    {
     "name": "stdout",
     "output_type": "stream",
     "text": [
      "['Monday', 'Tuesday', 'Wednesday', 'Thursday', 'Friday', 'Saturday', 'Sunday']\n",
      "[78, 73, 68, 65, 66, 67, 69]\n"
     ]
    },
    {
     "data": {
      "text/plain": [
       "[<matplotlib.lines.Line2D at 0x2685b6ea5f0>]"
      ]
     },
     "execution_count": 8,
     "metadata": {},
     "output_type": "execute_result"
    },
    {
     "data": {
      "image/png": "[encoded data removed]",
      "text/plain": [
       "<Figure size 432x288 with 1 Axes>"
      ]
     },
     "metadata": {
      "needs_background": "light"
     },
     "output_type": "display_data"
    }
   ],
   "source": [
    "import csv\n",
    "import numpy as np\n",
    "import matplotlib.pyplot as plt\n",
    "\n",
    "with open(\"Temperature.csv\") as d:\n",
    "\treader = csv.reader(d)\n",
    "\tdata = [ line for line in reader ]\n",
    "\n",
    "data = np.array(data)\n",
    "\n",
    "number_of_rows = len(data)\n",
    "\n",
    "x = [] # Days of the week\n",
    "y = [] # Temperature\n",
    "\n",
    "for i in range(number_of_rows):\n",
    "    x.append(data[i][0])\n",
    "    y.append(data[i][1])\n",
    "\n",
    "print(x)\n",
    "y = list(map(int,y)) # convert char to int\n",
    "print(y)\n",
    "\n",
    "#find the min in the list and find which day it corresponds to\n",
    "\n",
    "min_value = min(y) \n",
    "index_min_value = y.index(min(y))\n",
    "day_min_value = x[index_min_value]\n",
    "\n",
    "#find the max in the list and find which day it corresponds to\n",
    "\n",
    "max_value = max(y)\n",
    "index_max_value = y.index(max(y))\n",
    "day_max_value = x[index_max_value]\n",
    "\n",
    "#plt display options\n",
    "\n",
    "plt.title(\"Temperatures in San Diego\")\n",
    "plt.xlabel(\"Days of the week\")\n",
    "plt.ylabel(\"Temperature\")\n",
    "\n",
    "#plot data\n",
    "\n",
    "plt.scatter(x,y,c='g')\n",
    "plt.plot(day_max_value,max_value,'.', c=\"r\",ms=15) # max temperature\n",
    "plt.plot(day_min_value,min_value,'.', c=\"b\",ms=15) # min temperature\n",
    "\n"
   ]
  }
 ],
 "metadata": {
  "interpreter": {
   "hash": "794d4fb344e7dfbd9d8e62a5303e08e679deeb8bb7cb7a546a2ca96b4c50d29e"
  },
  "kernelspec": {
   "display_name": "Python 3.10.4 64-bit (windows store)",
   "language": "python",
   "name": "python3"
  },
  "language_info": {
   "codemirror_mode": {
    "name": "ipython",
    "version": 3
   },
   "file_extension": ".py",
   "mimetype": "text/x-python",
   "name": "python",
   "nbconvert_exporter": "python",
   "pygments_lexer": "ipython3",
   "version": "3.10.4"
  },
  "orig_nbformat": 4
 },
 "nbformat": 4,
 "nbformat_minor": 2
}
